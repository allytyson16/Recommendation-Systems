{
 "cells": [
  {
   "cell_type": "code",
   "execution_count": 1,
   "id": "1e6b4dce",
   "metadata": {},
   "outputs": [],
   "source": [
    "import pandas as pd\n",
    "import numpy as np\n",
    "from sklearn.feature_extraction.text import CountVectorizer\n",
    "from sklearn.metrics.pairwise import cosine_similarity\n",
    "vectorizer = CountVectorizer(max_features = 5000, stop_words=[\"\"])\n",
    "\n"
   ]
  },
  {
   "cell_type": "code",
   "execution_count": 2,
   "id": "6a29702a",
   "metadata": {},
   "outputs": [],
   "source": [
    "data_df = pd.read_csv(\"./RestaurantData.csv\")"
   ]
  },
  {
   "cell_type": "code",
   "execution_count": 3,
   "id": "a8c8e12e",
   "metadata": {},
   "outputs": [
    {
     "data": {
      "text/html": [
       "<div>\n",
       "<style scoped>\n",
       "    .dataframe tbody tr th:only-of-type {\n",
       "        vertical-align: middle;\n",
       "    }\n",
       "\n",
       "    .dataframe tbody tr th {\n",
       "        vertical-align: top;\n",
       "    }\n",
       "\n",
       "    .dataframe thead th {\n",
       "        text-align: right;\n",
       "    }\n",
       "</style>\n",
       "<table border=\"1\" class=\"dataframe\">\n",
       "  <thead>\n",
       "    <tr style=\"text-align: right;\">\n",
       "      <th></th>\n",
       "      <th>id</th>\n",
       "      <th>location</th>\n",
       "      <th>tags</th>\n",
       "    </tr>\n",
       "  </thead>\n",
       "  <tbody>\n",
       "    <tr>\n",
       "      <th>31</th>\n",
       "      <td>32</td>\n",
       "      <td>Sweet Chocomilo</td>\n",
       "      <td>night market fried rice jollof plain rice banku</td>\n",
       "    </tr>\n",
       "    <tr>\n",
       "      <th>32</th>\n",
       "      <td>33</td>\n",
       "      <td>Favoured One indomie</td>\n",
       "      <td>night market indomie spaghetti</td>\n",
       "    </tr>\n",
       "    <tr>\n",
       "      <th>33</th>\n",
       "      <td>34</td>\n",
       "      <td>God is Able</td>\n",
       "      <td>night market banku fufu konkonte omotuo</td>\n",
       "    </tr>\n",
       "    <tr>\n",
       "      <th>34</th>\n",
       "      <td>35</td>\n",
       "      <td>Baba Special Khebab</td>\n",
       "      <td>night market sausage beef goat gizzard liver t...</td>\n",
       "    </tr>\n",
       "    <tr>\n",
       "      <th>35</th>\n",
       "      <td>36</td>\n",
       "      <td>Night Market</td>\n",
       "      <td>Daavi's beans Bread hub Meluvs Easy eats Pork ...</td>\n",
       "    </tr>\n",
       "  </tbody>\n",
       "</table>\n",
       "</div>"
      ],
      "text/plain": [
       "    id              location  \\\n",
       "31  32       Sweet Chocomilo   \n",
       "32  33  Favoured One indomie   \n",
       "33  34           God is Able   \n",
       "34  35   Baba Special Khebab   \n",
       "35  36          Night Market   \n",
       "\n",
       "                                                 tags  \n",
       "31    night market fried rice jollof plain rice banku  \n",
       "32                     night market indomie spaghetti  \n",
       "33            night market banku fufu konkonte omotuo  \n",
       "34  night market sausage beef goat gizzard liver t...  \n",
       "35  Daavi's beans Bread hub Meluvs Easy eats Pork ...  "
      ]
     },
     "execution_count": 3,
     "metadata": {},
     "output_type": "execute_result"
    }
   ],
   "source": [
    "data_df.tail()"
   ]
  },
  {
   "cell_type": "code",
   "execution_count": 4,
   "id": "fee5ab87",
   "metadata": {},
   "outputs": [
    {
     "name": "stdout",
     "output_type": "stream",
     "text": [
      "<class 'pandas.core.frame.DataFrame'>\n",
      "RangeIndex: 36 entries, 0 to 35\n",
      "Data columns (total 3 columns):\n",
      " #   Column    Non-Null Count  Dtype \n",
      "---  ------    --------------  ----- \n",
      " 0   id        36 non-null     int64 \n",
      " 1   location  36 non-null     object\n",
      " 2   tags      36 non-null     object\n",
      "dtypes: int64(1), object(2)\n",
      "memory usage: 992.0+ bytes\n"
     ]
    }
   ],
   "source": [
    "data_df.info()\n",
    "# Print the info of the data"
   ]
  },
  {
   "cell_type": "code",
   "execution_count": 20,
   "id": "167835b0",
   "metadata": {},
   "outputs": [
    {
     "data": {
      "text/plain": [
       "id           0\n",
       "location     0\n",
       "tags        35\n",
       "dtype: int64"
      ]
     },
     "execution_count": 20,
     "metadata": {},
     "output_type": "execute_result"
    }
   ],
   "source": [
    "data_df.isnull().sum()"
   ]
  },
  {
   "cell_type": "code",
   "execution_count": 17,
   "id": "d01ce176",
   "metadata": {},
   "outputs": [],
   "source": [
    "def remove_spaces(text):\n",
    "    list_form = text.split(\" \")\n",
    "    for i in range(len(list_form)):\n",
    "        if list_form[i]==\" \":\n",
    "            list_form[i]=\"\"\n",
    "    "
   ]
  },
  {
   "cell_type": "code",
   "execution_count": 23,
   "id": "d7122b96",
   "metadata": {},
   "outputs": [],
   "source": []
  },
  {
   "cell_type": "code",
   "execution_count": 24,
   "id": "471e8498",
   "metadata": {},
   "outputs": [
    {
     "data": {
      "text/html": [
       "<div>\n",
       "<style scoped>\n",
       "    .dataframe tbody tr th:only-of-type {\n",
       "        vertical-align: middle;\n",
       "    }\n",
       "\n",
       "    .dataframe tbody tr th {\n",
       "        vertical-align: top;\n",
       "    }\n",
       "\n",
       "    .dataframe thead th {\n",
       "        text-align: right;\n",
       "    }\n",
       "</style>\n",
       "<table border=\"1\" class=\"dataframe\">\n",
       "  <thead>\n",
       "    <tr style=\"text-align: right;\">\n",
       "      <th></th>\n",
       "      <th>id</th>\n",
       "      <th>location</th>\n",
       "      <th>tags</th>\n",
       "    </tr>\n",
       "  </thead>\n",
       "  <tbody>\n",
       "    <tr>\n",
       "      <th>0</th>\n",
       "      <td>1</td>\n",
       "      <td>Campus Hub</td>\n",
       "      <td>[chinese, rice, noodles, shrimp, fried, grille...</td>\n",
       "    </tr>\n",
       "    <tr>\n",
       "      <th>1</th>\n",
       "      <td>2</td>\n",
       "      <td>Chaleur Restaurant</td>\n",
       "      <td>[Statistics, jollof, rice, banku, okro, soup, ...</td>\n",
       "    </tr>\n",
       "    <tr>\n",
       "      <th>2</th>\n",
       "      <td>3</td>\n",
       "      <td>Commonwealth Hall</td>\n",
       "      <td>[chinese, rice, noodles, shrimp, fried, grille...</td>\n",
       "    </tr>\n",
       "    <tr>\n",
       "      <th>3</th>\n",
       "      <td>4</td>\n",
       "      <td>Statistics Department</td>\n",
       "      <td>[Chaleur, Restaurant, jollof, rice, banku, okr...</td>\n",
       "    </tr>\n",
       "    <tr>\n",
       "      <th>4</th>\n",
       "      <td>5</td>\n",
       "      <td>Royal Mic Jean</td>\n",
       "      <td>[gizzard, N-Block, balls, Botany, sausage, , i...</td>\n",
       "    </tr>\n",
       "  </tbody>\n",
       "</table>\n",
       "</div>"
      ],
      "text/plain": [
       "   id               location  \\\n",
       "0   1             Campus Hub   \n",
       "1   2     Chaleur Restaurant   \n",
       "2   3      Commonwealth Hall   \n",
       "3   4  Statistics Department   \n",
       "4   5         Royal Mic Jean   \n",
       "\n",
       "                                                tags  \n",
       "0  [chinese, rice, noodles, shrimp, fried, grille...  \n",
       "1  [Statistics, jollof, rice, banku, okro, soup, ...  \n",
       "2  [chinese, rice, noodles, shrimp, fried, grille...  \n",
       "3  [Chaleur, Restaurant, jollof, rice, banku, okr...  \n",
       "4  [gizzard, N-Block, balls, Botany, sausage, , i...  "
      ]
     },
     "execution_count": 24,
     "metadata": {},
     "output_type": "execute_result"
    }
   ],
   "source": []
  },
  {
   "cell_type": "code",
   "execution_count": 25,
   "id": "ce20f6a5",
   "metadata": {},
   "outputs": [],
   "source": []
  },
  {
   "cell_type": "code",
   "execution_count": null,
   "id": "2b99992a",
   "metadata": {},
   "outputs": [],
   "source": []
  },
  {
   "cell_type": "code",
   "execution_count": null,
   "id": "3f268fdc",
   "metadata": {},
   "outputs": [],
   "source": []
  },
  {
   "cell_type": "code",
   "execution_count": 5,
   "id": "f2f071b3",
   "metadata": {},
   "outputs": [
    {
     "data": {
      "text/html": [
       "<div>\n",
       "<style scoped>\n",
       "    .dataframe tbody tr th:only-of-type {\n",
       "        vertical-align: middle;\n",
       "    }\n",
       "\n",
       "    .dataframe tbody tr th {\n",
       "        vertical-align: top;\n",
       "    }\n",
       "\n",
       "    .dataframe thead th {\n",
       "        text-align: right;\n",
       "    }\n",
       "</style>\n",
       "<table border=\"1\" class=\"dataframe\">\n",
       "  <thead>\n",
       "    <tr style=\"text-align: right;\">\n",
       "      <th></th>\n",
       "      <th>id</th>\n",
       "      <th>location</th>\n",
       "      <th>tags</th>\n",
       "    </tr>\n",
       "  </thead>\n",
       "  <tbody>\n",
       "    <tr>\n",
       "      <th>0</th>\n",
       "      <td>1</td>\n",
       "      <td>Campus Hub</td>\n",
       "      <td>chinese rice noodles shrimp fried grilled chic...</td>\n",
       "    </tr>\n",
       "    <tr>\n",
       "      <th>1</th>\n",
       "      <td>2</td>\n",
       "      <td>Chaleur Restaurant</td>\n",
       "      <td>Statistics jollof rice banku okro soup pepper ...</td>\n",
       "    </tr>\n",
       "    <tr>\n",
       "      <th>2</th>\n",
       "      <td>3</td>\n",
       "      <td>Commonwealth Hall</td>\n",
       "      <td>chinese rice noodles shrimp fried grilled chic...</td>\n",
       "    </tr>\n",
       "    <tr>\n",
       "      <th>3</th>\n",
       "      <td>4</td>\n",
       "      <td>Statistics Department</td>\n",
       "      <td>Chaleur Restaurant jollof rice banku okro soup...</td>\n",
       "    </tr>\n",
       "    <tr>\n",
       "      <th>4</th>\n",
       "      <td>5</td>\n",
       "      <td>Royal Mic Jean</td>\n",
       "      <td>gizzard N-Block balls Botany sausage  indomie ...</td>\n",
       "    </tr>\n",
       "  </tbody>\n",
       "</table>\n",
       "</div>"
      ],
      "text/plain": [
       "   id               location  \\\n",
       "0   1             Campus Hub   \n",
       "1   2     Chaleur Restaurant   \n",
       "2   3      Commonwealth Hall   \n",
       "3   4  Statistics Department   \n",
       "4   5         Royal Mic Jean   \n",
       "\n",
       "                                                tags  \n",
       "0  chinese rice noodles shrimp fried grilled chic...  \n",
       "1  Statistics jollof rice banku okro soup pepper ...  \n",
       "2  chinese rice noodles shrimp fried grilled chic...  \n",
       "3  Chaleur Restaurant jollof rice banku okro soup...  \n",
       "4  gizzard N-Block balls Botany sausage  indomie ...  "
      ]
     },
     "execution_count": 5,
     "metadata": {},
     "output_type": "execute_result"
    }
   ],
   "source": [
    "data_df.head()"
   ]
  },
  {
   "cell_type": "code",
   "execution_count": 42,
   "id": "38069262",
   "metadata": {},
   "outputs": [],
   "source": [
    "vectors = vectorizer.fit_transform(data_df[\"tags\"]).toarray()\n"
   ]
  },
  {
   "cell_type": "code",
   "execution_count": null,
   "id": "19c13456",
   "metadata": {},
   "outputs": [],
   "source": []
  },
  {
   "cell_type": "code",
   "execution_count": 43,
   "id": "8621d342",
   "metadata": {},
   "outputs": [],
   "source": [
    "similarity = cosine_similarity(vectors)"
   ]
  },
  {
   "cell_type": "code",
   "execution_count": 61,
   "id": "a88dfc6f",
   "metadata": {},
   "outputs": [],
   "source": [
    "distances = similarity[6]\n",
    "\n",
    "restaurant_list = sorted(list(enumerate(distances)),reverse=True,key=lambda x:x[1])[1:10]"
   ]
  },
  {
   "cell_type": "code",
   "execution_count": 62,
   "id": "6c46e953",
   "metadata": {},
   "outputs": [
    {
     "data": {
      "text/plain": [
       "[(5, 0.8827166660497837),\n",
       " (4, 0.8757932911874176),\n",
       " (7, 0.5890275078618326),\n",
       " (1, 0.31462660248284635),\n",
       " (8, 0.26943012562182533),\n",
       " (17, 0.26352313834736496),\n",
       " (18, 0.26352313834736496),\n",
       " (3, 0.25819888974716115),\n",
       " (15, 0.24343224778007386)]"
      ]
     },
     "execution_count": 62,
     "metadata": {},
     "output_type": "execute_result"
    }
   ],
   "source": [
    "restaurant_list"
   ]
  },
  {
   "cell_type": "code",
   "execution_count": 63,
   "id": "de475fe9",
   "metadata": {},
   "outputs": [
    {
     "name": "stdout",
     "output_type": "stream",
     "text": [
      "Botany Department\n",
      "Royal Mic Jean\n",
      "Volta Hall\n",
      "Chaleur Restaurant\n",
      "Legon Hall\n",
      "God is Good Beans\n",
      "Daavi's beans\n",
      "Statistics Department\n",
      "Mandy's Kitchen\n"
     ]
    }
   ],
   "source": [
    "for (index,sim) in restaurant_list:\n",
    "        print(data_df[\"location\"][index])"
   ]
  },
  {
   "cell_type": "code",
   "execution_count": 6,
   "id": "44ee75c9",
   "metadata": {},
   "outputs": [],
   "source": [
    "def recommend(location):\n",
    "    to_return=[]\n",
    "    try:\n",
    "        vectors = vectorizer.fit_transform(data_df[\"tags\"]).toarray()\n",
    "        similarity = cosine_similarity(vectors)\n",
    "        location_index=data_df[data_df[\"location\"]==location].index[0]\n",
    "        distances = similarity[location_index]\n",
    "        restaurant_list = sorted(list(enumerate(distances)),reverse=True,key=lambda x:x[1])[1:10]\n",
    "        for (index,sim) in restaurant_list:\n",
    "            to_return.append(data_df[\"location\"][index])\n",
    "    except Exception:\n",
    "        return(\"Location can not be found\")\n",
    "    return to_return"
   ]
  },
  {
   "cell_type": "code",
   "execution_count": 8,
   "id": "fc24636e",
   "metadata": {},
   "outputs": [
    {
     "name": "stdout",
     "output_type": "stream",
     "text": [
      "['Royal Mic Jean', 'Botany Department', 'N-Block', 'Legon Hall', \"Makafui's kenkey\", \"Mandy's Kitchen\", \"Nelly's Kitchen\", 'Chaleur Restaurant', 'Pleasure palace']\n"
     ]
    }
   ],
   "source": [
    "print(recommend(\"Volta Hall\"))"
   ]
  },
  {
   "cell_type": "code",
   "execution_count": null,
   "id": "206ca9d2",
   "metadata": {},
   "outputs": [],
   "source": []
  }
 ],
 "metadata": {
  "kernelspec": {
   "display_name": "Python 3 (ipykernel)",
   "language": "python",
   "name": "python3"
  },
  "language_info": {
   "codemirror_mode": {
    "name": "ipython",
    "version": 3
   },
   "file_extension": ".py",
   "mimetype": "text/x-python",
   "name": "python",
   "nbconvert_exporter": "python",
   "pygments_lexer": "ipython3",
   "version": "3.9.13"
  }
 },
 "nbformat": 4,
 "nbformat_minor": 5
}
